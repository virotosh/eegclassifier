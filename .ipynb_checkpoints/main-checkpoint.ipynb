{
 "cells": [
  {
   "cell_type": "code",
   "execution_count": 1,
   "id": "15d3c455-13d3-402f-a4cb-59e4dd0570b3",
   "metadata": {},
   "outputs": [],
   "source": [
    "from util.EEGDataLoader import EEGDataLoader"
   ]
  },
  {
   "cell_type": "code",
   "execution_count": 4,
   "id": "816d54b4-cba8-4ea3-b3af-702b2ee6d675",
   "metadata": {},
   "outputs": [],
   "source": [
    "_dir = 'data/'\n",
    "params = {\n",
    "            'subjectID' : 1\n",
    "}\n",
    "_data = EEGDataLoader(_dir, params)\n",
    "_data.load_data()"
   ]
  },
  {
   "cell_type": "code",
   "execution_count": 5,
   "id": "d50f6898-2ef9-4953-9fe9-5349824e4a78",
   "metadata": {},
   "outputs": [
    {
     "ename": "AttributeError",
     "evalue": "'tuple' object has no attribute 'trainData'",
     "output_type": "error",
     "traceback": [
      "\u001b[0;31m---------------------------------------------------------------------------\u001b[0m",
      "\u001b[0;31mAttributeError\u001b[0m                            Traceback (most recent call last)",
      "Cell \u001b[0;32mIn[5], line 1\u001b[0m\n\u001b[0;32m----> 1\u001b[0m \u001b[38;5;28mlen\u001b[39m(\u001b[43m_data\u001b[49m\u001b[38;5;241;43m.\u001b[39;49m\u001b[43mtrainData\u001b[49m)\n",
      "\u001b[0;31mAttributeError\u001b[0m: 'tuple' object has no attribute 'trainData'"
     ]
    }
   ],
   "source": [
    "len(_data.trainData)"
   ]
  },
  {
   "cell_type": "code",
   "execution_count": null,
   "id": "f20b7fec-5c6b-41f1-a195-09c444a21d50",
   "metadata": {},
   "outputs": [],
   "source": []
  }
 ],
 "metadata": {
  "kernelspec": {
   "display_name": "Python 3 (ipykernel)",
   "language": "python",
   "name": "python3"
  },
  "language_info": {
   "codemirror_mode": {
    "name": "ipython",
    "version": 3
   },
   "file_extension": ".py",
   "mimetype": "text/x-python",
   "name": "python",
   "nbconvert_exporter": "python",
   "pygments_lexer": "ipython3",
   "version": "3.9.20"
  }
 },
 "nbformat": 4,
 "nbformat_minor": 5
}
