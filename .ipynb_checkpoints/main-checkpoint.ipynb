{
 "cells": [
  {
   "cell_type": "code",
   "execution_count": 2,
   "id": "15d3c455-13d3-402f-a4cb-59e4dd0570b3",
   "metadata": {},
   "outputs": [],
   "source": [
    "from util.EEGDataLoader import EEGDataLoader\n",
    "from model.EEGTransformer import EEGTransformer\n",
    "from util.helpers import helpers"
   ]
  },
  {
   "cell_type": "code",
   "execution_count": 2,
   "id": "816d54b4-cba8-4ea3-b3af-702b2ee6d675",
   "metadata": {},
   "outputs": [],
   "source": [
    "_dir = 'data/'\n",
    "params = {\n",
    "            'subjectID' : 1\n",
    "}\n",
    "_data = EEGDataLoader(_dir, params)"
   ]
  },
  {
   "cell_type": "code",
   "execution_count": 5,
   "id": "d50f6898-2ef9-4953-9fe9-5349824e4a78",
   "metadata": {},
   "outputs": [
    {
     "data": {
      "text/plain": [
       "240"
      ]
     },
     "execution_count": 5,
     "metadata": {},
     "output_type": "execute_result"
    }
   ],
   "source": [
    "len(_data.testData)"
   ]
  },
  {
   "cell_type": "code",
   "execution_count": 4,
   "id": "e969a4bc-3dea-4701-87b1-ac407f1805e6",
   "metadata": {},
   "outputs": [],
   "source": []
  },
  {
   "cell_type": "code",
   "execution_count": 4,
   "id": "f20b7fec-5c6b-41f1-a195-09c444a21d50",
   "metadata": {},
   "outputs": [],
   "source": []
  },
  {
   "cell_type": "code",
   "execution_count": 30,
   "id": "45b2dde7-b146-4f37-9fcd-a4555a3705df",
   "metadata": {},
   "outputs": [],
   "source": []
  },
  {
   "cell_type": "code",
   "execution_count": 38,
   "id": "84d374ca-6964-4237-92a8-f9a779b070cf",
   "metadata": {},
   "outputs": [],
   "source": []
  },
  {
   "cell_type": "code",
   "execution_count": null,
   "id": "111e6018-91ea-45b1-a5c0-32d66639dcb0",
   "metadata": {},
   "outputs": [],
   "source": []
  },
  {
   "cell_type": "code",
   "execution_count": 39,
   "id": "8a53f3fd-eb6e-4fe5-986b-bf38b1953da7",
   "metadata": {},
   "outputs": [],
   "source": []
  },
  {
   "cell_type": "code",
   "execution_count": null,
   "id": "15939fce-6278-435e-ba03-791bbc463086",
   "metadata": {},
   "outputs": [],
   "source": []
  },
  {
   "cell_type": "code",
   "execution_count": null,
   "id": "da48194e-2220-44bd-9e5c-4b721eb94909",
   "metadata": {},
   "outputs": [],
   "source": []
  }
 ],
 "metadata": {
  "kernelspec": {
   "display_name": "Python 3 (ipykernel)",
   "language": "python",
   "name": "python3"
  },
  "language_info": {
   "codemirror_mode": {
    "name": "ipython",
    "version": 3
   },
   "file_extension": ".py",
   "mimetype": "text/x-python",
   "name": "python",
   "nbconvert_exporter": "python",
   "pygments_lexer": "ipython3",
   "version": "3.9.20"
  }
 },
 "nbformat": 4,
 "nbformat_minor": 5
}
